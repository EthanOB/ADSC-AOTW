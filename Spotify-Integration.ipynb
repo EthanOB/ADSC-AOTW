{
 "cells": [
  {
   "cell_type": "code",
   "execution_count": 2,
   "metadata": {},
   "outputs": [
    {
     "name": "stderr",
     "output_type": "stream",
     "text": [
      "/Users/yush/Library/Python/3.9/lib/python/site-packages/urllib3/__init__.py:35: NotOpenSSLWarning: urllib3 v2 only supports OpenSSL 1.1.1+, currently the 'ssl' module is compiled with 'LibreSSL 2.8.3'. See: https://github.com/urllib3/urllib3/issues/3020\n",
      "  warnings.warn(\n"
     ]
    }
   ],
   "source": [
    "import numpy as np\n",
    "import pandas as pd\n",
    "\n",
    "import matplotlib.pyplot as plt\n",
    "\n",
    "import spotipy\n",
    "# from spotipy.oauth2 import SpotifyClientCredentials \n",
    "# spotify = spotipy.Spotify(client_credentials_manager=SpotifyClientCredentials(client_id=CLIENT_ID, client_secret=CLIENT_SECRET))\n",
    "\n",
    "#uncomment above and replace CLIENT_ID and CLIENT_SECRET with the id and secret you get from creating your app with spotify (going through the \"Getting Started\" instructions in the Spotify Web API documentation)\n",
    "\n",
    "from sklearn.model_selection import train_test_split\n",
    "import math"
   ]
  },
  {
   "cell_type": "markdown",
   "metadata": {},
   "source": [
    "# Spotify Integration"
   ]
  },
  {
   "cell_type": "code",
   "execution_count": null,
   "metadata": {},
   "outputs": [],
   "source": [
    "discussions_df = pd.read_csv('data/Discussions.csv', header=0, encoding='utf-8')\n",
    "ratings_df = pd.read_csv('data/Ratings.csv', header=0, encoding='utf-8')\n",
    "display(discussions_df)\n",
    "display(ratings_df)"
   ]
  },
  {
   "cell_type": "code",
   "execution_count": null,
   "metadata": {},
   "outputs": [],
   "source": [
    "discussions_df['EnergyAvg'] = 0\n",
    "discussions_df['ValenceAvg'] = 0\n",
    "discussions_df['AcousticnessAvg'] = 0\n",
    "discussions_df['InstrumentalnessAvg'] = 0\n",
    "\n",
    "for ind in range(len(discussions_df)):\n",
    "    results = spotify.album_tracks(discussions_df['SpotifyID'][ind])\n",
    "\n",
    "    ids = []\n",
    "    for track in results['items']:\n",
    "        ids.append(track['id'])\n",
    "    numTracks = len(ids)\n",
    "\n",
    "    features = spotify.audio_features(ids)\n",
    "    for feature in features['audio_features']:\n",
    "        discussions_df['EnergyAvg'][ind] += feature['energy'] / numTracks\n",
    "        discussions_df['ValenceAvg'][ind] += feature['valence'] / numTracks\n",
    "        discussions_df['AcousticnessAvg'][ind] += feature['acousticness'] / numTracks\n",
    "        discussions_df['InstrumentalnessAvg'][ind] += feature['instrumentalness'] / numTracks\n",
    "    \n",
    "display(discussions_df)"
   ]
  },
  {
   "cell_type": "markdown",
   "metadata": {},
   "source": [
    "# Your Turn\n",
    "Fill out the the database with audio features (watch out for 429 errors!) and run some of the filtering techniques we've covered on it.\n",
    "\n",
    "Content filtering is a great fit here\n",
    "\n",
    "also be cognisant of the fact that audio features are numerical values, and thus can be leveraged in weighted sums, numerical analysis, and any number of data science techniques.\n",
    "\n",
    "and like mentioned in the content filtering slides, feel free to go above and beyond with any external resoruces (like RateYourMusic, AlbumOfTheYear, etc.) you'd like!"
   ]
  },
  {
   "cell_type": "code",
   "execution_count": 1,
   "metadata": {},
   "outputs": [],
   "source": [
    "# TODO: integrate Spotify with your filtering code"
   ]
  },
  {
   "cell_type": "markdown",
   "metadata": {},
   "source": []
  }
 ],
 "metadata": {
  "kernelspec": {
   "display_name": "Python 3",
   "language": "python",
   "name": "python3"
  },
  "language_info": {
   "codemirror_mode": {
    "name": "ipython",
    "version": 3
   },
   "file_extension": ".py",
   "mimetype": "text/x-python",
   "name": "python",
   "nbconvert_exporter": "python",
   "pygments_lexer": "ipython3",
   "version": "3.9.6"
  }
 },
 "nbformat": 4,
 "nbformat_minor": 2
}
